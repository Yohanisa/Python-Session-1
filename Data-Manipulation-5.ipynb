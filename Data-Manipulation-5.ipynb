{
 "cells": [
  {
   "cell_type": "markdown",
   "metadata": {},
   "source": [
    "#Pandas"
   ]
  },
  {
   "cell_type": "code",
   "execution_count": null,
   "metadata": {},
   "outputs": [],
   "source": [
    "# Importing Pandas\n",
    "import pandas as pd\n",
    "\n",
    "# Sample data\n",
    "balances = [1000, 2500, 4300, 1200, 5000]\n",
    "# Creating a Series\n",
    "balance_series = pd.Series(balances, name=\"Account Balance\")\n",
    "print(balance_series[3])\n",
    "\n",
    "# Filtering\n",
    "high_balance = balance_series[balance_series > 2000]\n",
    "print(high_balance)\n",
    "\n"
   ]
  },
  {
   "cell_type": "markdown",
   "metadata": {},
   "source": [
    "#Pandas Frame"
   ]
  },
  {
   "cell_type": "code",
   "execution_count": null,
   "metadata": {},
   "outputs": [],
   "source": [
    "# Sample data\n",
    "data = {\n",
    "    \"Customer ID\": [101, 102, 103, 104],\n",
    "    \"Name\": [\"Alice\", \"Bob\", \"Charlie\", \"David\"],\n",
    "    \"Account Balance\": [3000, 1500, 4000, 800],\n",
    "    \"Account Type\": [\"Savings\", \"Checking\", \"Savings\", \"Checking\"]\n",
    "}\n",
    "\n",
    "# Creating a DataFrame\n",
    "bank_df = pd.DataFrame(data)\n",
    "print(bank_df)\n",
    "print(bank_df.head())\n"
   ]
  },
  {
   "cell_type": "markdown",
   "metadata": {},
   "source": []
  }
 ],
 "metadata": {
  "kernelspec": {
   "display_name": "Python 3",
   "language": "python",
   "name": "python3"
  },
  "language_info": {
   "codemirror_mode": {
    "name": "ipython",
    "version": 3
   },
   "file_extension": ".py",
   "mimetype": "text/x-python",
   "name": "python",
   "nbconvert_exporter": "python",
   "pygments_lexer": "ipython3",
   "version": "3.13.1"
  }
 },
 "nbformat": 4,
 "nbformat_minor": 2
}
