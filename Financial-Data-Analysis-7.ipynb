{
 "cells": [
  {
   "cell_type": "markdown",
   "metadata": {},
   "source": [
    "Data Visualization"
   ]
  },
  {
   "cell_type": "code",
   "execution_count": null,
   "metadata": {},
   "outputs": [],
   "source": [
    "import pandas as pd\n",
    "import matplotlib.pyplot as plt\n",
    "# Sample data: Monthly transaction amounts in a bank\n",
    "data = {'Month': ['Jan', 'Feb', 'Mar', 'Apr', 'May', 'Jun', 'Jul', 'Aug', 'Sep', 'Oct', 'Nov', 'Dec'],\n",
    "        'Transaction Amount': [20000, 25000, 22000, 27000, 28000, 30000, 31000, 35000, 33000, 36000, 34000, 37000]}\n",
    "df = pd.DataFrame(data)\n",
    "\n",
    "# Plotting\n",
    "plt.plot(df['Month'], df['Transaction Amount'], marker='o', linestyle='-', color='b')\n",
    "plt.title('Monthly Transaction Amounts')\n",
    "plt.xlabel('Month')\n",
    "plt.ylabel('Transaction Amount ($)')\n",
    "plt.grid(True)\n",
    "plt.show()\n"
   ]
  },
  {
   "cell_type": "markdown",
   "metadata": {},
   "source": [
    "Bar Graph"
   ]
  },
  {
   "cell_type": "code",
   "execution_count": null,
   "metadata": {},
   "outputs": [],
   "source": [
    "#Bar Graph\n",
    "data = {'Account Type': ['Savings', 'Checking', 'Credit', 'Loan'],\n",
    "        'Number of Accounts': [15000, 10000, 5000, 3000]}\n",
    "df = pd.DataFrame(data)\n",
    "\n",
    "# Plotting\n",
    "plt.bar(df['Account Type'], df['Number of Accounts'], color='teal')\n",
    "plt.title('Number of Accounts by Account Type')\n",
    "plt.xlabel('Account Type')\n",
    "plt.ylabel('Number of Accounts')\n",
    "plt.show()\n"
   ]
  },
  {
   "cell_type": "markdown",
   "metadata": {},
   "source": [
    "Histogram"
   ]
  },
  {
   "cell_type": "code",
   "execution_count": 3,
   "metadata": {},
   "outputs": [],
   "source": [
    "#Histogram\n",
    "import numpy as np\n",
    "# Simulate some transaction amount data\n",
    "transaction_amounts = np.random.normal(1000, 200, 1500)  # 1000 transactions with a mean of $1000\n",
    "\n",
    "plt.hist(transaction_amounts, bins=15,color='teal', edgecolor='red')"
   ]
  },
  {
   "cell_type": "code",
   "execution_count": null,
   "metadata": {},
   "outputs": [
    {
     "ename": "",
     "evalue": "",
     "output_type": "error",
     "traceback": [
      "\u001b[1;31mRunning cells with 'Python 3.11.9' requires the ipykernel package.\n",
      "\u001b[1;31mRun the following command to install 'ipykernel' into the Python environment. \n",
      "\u001b[1;31mCommand: '\"c:/Users/OptiPlex 3070/AppData/Local/Microsoft/WindowsApps/python3.11.exe\" -m pip install ipykernel -U --user --force-reinstall'"
     ]
    }
   ],
   "source": [
    "#Box\n",
    "import seaborn as sns\n",
    "# Sample data\n",
    "data = {'Account Type': ['Savings', 'Savings', 'Checking', 'Checking', 'Credit', 'Credit', 'Loan', 'Loan'],\n",
    "        'Transaction Amount': [2000, 3000, 1500, 1600, 7000, 7200, 50000, 50500]}\n",
    "df = pd.DataFrame(data)\n",
    "\n",
    "# Plotting\n",
    "sns.boxplot(x='Account Type', y='Transaction Amount', data=df)\n",
    "plt.title('Transaction Amount by Account Type')\n",
    "plt.show()\n"
   ]
  },
  {
   "cell_type": "code",
   "execution_count": null,
   "metadata": {},
   "outputs": [],
   "source": [
    "# Sample correlation data\n",
    "data = {'ATM Transactions': [50, 30, 20], 'Online Payments': [30, 20, 15], 'In-branch Transactions': [20, 15, 10]}\n",
    "df = pd.DataFrame(data, index=['Savings', 'Checking', 'Credit'])\n",
    "\n",
    "print(df)\n",
    "\n",
    "# Plotting\n",
    "sns.heatmap(df, annot=True, cmap='YlGnBu')\n",
    "plt.title('Transaction Type Distribution by Account Type')\n",
    "plt.xlabel('Transaction Type')\n",
    "plt.ylabel('Account Type')\n",
    "plt.show()\n"
   ]
  },
  {
   "cell_type": "code",
   "execution_count": null,
   "metadata": {},
   "outputs": [],
   "source": [
    "# Sample data: New customers added each year\n",
    "data = {'Year': [2018, 2019, 2020, 2021, 2022],\n",
    "        'New Customers': [2000, 2500, 2800, 3000, 3500]}\n",
    "df = pd.DataFrame(data)\n",
    "\n",
    "# Plotting\n",
    "plt.plot(df['Year'], df['New Customers'], marker='o', linestyle='-', color='blue')\n",
    "plt.title('New Customer Growth Over Years')\n",
    "plt.xlabel('Year')\n",
    "plt.ylabel('Number of New Customers')\n",
    "plt.grid(True)\n",
    "plt.show()\n"
   ]
  },
  {
   "cell_type": "markdown",
   "metadata": {},
   "source": [
    "CLASS 7\n",
    "Financial Data Analysis"
   ]
  },
  {
   "cell_type": "code",
   "execution_count": null,
   "metadata": {},
   "outputs": [
    {
     "ename": "",
     "evalue": "",
     "output_type": "error",
     "traceback": [
      "\u001b[1;31mRunning cells with 'Python 3.11.-1' requires the ipykernel package.\n",
      "\u001b[1;31mRun the following command to install 'ipykernel' into the Python environment. \n",
      "\u001b[1;31mCommand: '\"c:/Users/OptiPlex 3070/AppData/Local/Microsoft/WindowsApps/python3.11.exe\" -m pip install ipykernel -U --user --force-reinstall'"
     ]
    }
   ],
   "source": [
    "impport pandas as pd\n",
    "\n",
    "filePath = path + \"/bank-additional-full.csv\"\n",
    "df = pd.read.csv(filePath, sep=';')\n",
    "#print(df.head())\n",
    "\n",
    "#Descriptive Statistics\n",
    "mean = df[\"age\"].mode()\n",
    "print(\"Average age of the number:\", mean)\n",
    "median = df[\"age\"].mode()\n",
    "print(\"Median age of the age:\", median)\n",
    "\n"
   ]
  }
 ],
 "metadata": {
  "kernelspec": {
   "display_name": "Python 3",
   "language": "python",
   "name": "python3"
  },
  "language_info": {
   "codemirror_mode": {
    "name": "ipython",
    "version": 3
   },
   "file_extension": ".py",
   "mimetype": "text/x-python",
   "name": "python",
   "nbconvert_exporter": "python",
   "pygments_lexer": "ipython3",
   "version": "3.11.9"
  }
 },
 "nbformat": 4,
 "nbformat_minor": 2
}
