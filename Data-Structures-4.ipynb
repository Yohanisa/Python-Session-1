{
 "cells": [
  {
   "cell_type": "markdown",
   "metadata": {},
   "source": [
    "Data Structures"
   ]
  },
  {
   "cell_type": "code",
   "execution_count": null,
   "metadata": {},
   "outputs": [],
   "source": [
    "# Creating a list\n",
    "fruits = [\"apple\", \"banana\", \"cherry\"]\n",
    "fruits.append(\"Orange\")\n",
    "fruits.insert(1,\"Pappaya\")\n",
    "fruits.remove(\"cherry\")\n",
    "fruits.pop()\n",
    "fruits[1]=\"Strawberry\"\n",
    "\n",
    "citrus_fruits= fruits[1:3]\n",
    "\n",
    "# Accessing elements\n",
    "first_fruit = fruits[0]  # \"apple\"\n",
    "last_fruit = fruits[-2]   # \"cherry\" (negative indexing)\n",
    "\n",
    "print(fruits)\n",
    "print(fruits.sort())\n",
    "print(fruits)\n",
    "print(fruits.reverse())\n",
    "print(fruits)\n",
    "print(first_fruit)\n",
    "print(last_fruit)\n",
    "print(citrus_fruits)\n",
    "print(len(fruits))\n",
    "print(\"cherry\" in fruits)\n",
    "\n"
   ]
  },
  {
   "cell_type": "markdown",
   "metadata": {},
   "source": [
    "Tuples"
   ]
  },
  {
   "cell_type": "code",
   "execution_count": null,
   "metadata": {},
   "outputs": [],
   "source": [
    "# Tuples\n",
    "\n",
    "tupleOne = (\"name\",\"Fitsum\")\n",
    "print(tupleOne[0])\n",
    "print(tupleOne.count(\"Fitsum\"))"
   ]
  },
  {
   "cell_type": "code",
   "execution_count": null,
   "metadata": {},
   "outputs": [],
   "source": [
    "# Tuple representing a customer's information\n",
    "customer_info = (\"Alice Smith\", 123456, \"Savings\")\n",
    "# Accessing data\n",
    "name = customer_info[0]\n",
    "account_type = customer_info[2]\n",
    "account_number = customer_info[1]\n",
    "#customer_info[0]=\"John Doe\"\n",
    "print(f\"Customer Name: {name}\")\n",
    "print(f\"Account Type: {account_type}\")\n",
    "print(f\"Account Number: {account_number}\")\n"
   ]
  },
  {
   "cell_type": "markdown",
   "metadata": {},
   "source": [
    "Dictionaries"
   ]
  },
  {
   "cell_type": "code",
   "execution_count": null,
   "metadata": {},
   "outputs": [],
   "source": [
    "# Dictionary of customer balances\n",
    "customer_balances = {\n",
    "    123456: 1500.0,  # account number: balance\n",
    "    789012: 300.0,\n",
    "    345678: 0.0\n",
    "}\n",
    "print(customer_balances)\n",
    "account_number = 123456\n",
    "customer_balances[account_number] += 1000\n",
    "\n",
    "print(customer_balances)"
   ]
  },
  {
   "cell_type": "markdown",
   "metadata": {},
   "source": [
    "Sets\n",
    "set(), add(), remove(), union (|), intersection (&), difference (-)"
   ]
  },
  {
   "cell_type": "code",
   "execution_count": null,
   "metadata": {},
   "outputs": [],
   "source": [
    "# Set of unique transaction types\n",
    "transaction_types = {\"deposit\", \"withdrawal\", \"transfer\"}\n",
    "# Adding a new type\n",
    "transaction_types.add(\"loan payment\")\n",
    "# Checking for a transaction type\n",
    "print(\"Has 'deposit' been made?\", \"deposit\" in transaction_types)\n",
    "# Union with another set (additional types)\n",
    "all_types = transaction_types | {\"fee\", \"interest\"}\n",
    "print(\"All transaction types:\", all_types)\n"
   ]
  },
  {
   "cell_type": "markdown",
   "metadata": {},
   "source": [
    "Lists"
   ]
  },
  {
   "cell_type": "code",
   "execution_count": null,
   "metadata": {},
   "outputs": [],
   "source": [
    "squares = [x**2 for x in range(10)]\n",
    "print(squares)\n",
    "\n",
    "evens = [x for x in range(10) if x % 2 == 0]\n",
    "print(evens)\n",
    "\n",
    "words = [\"hello\", \"world\", \"python\"]\n",
    "print(words)\n",
    "upperCased = [word.upper() for word in words]\n",
    "print(upperCased)\n",
    "\n",
    "pairs = [(x, y) for x in range(3) for y in range(3)]\n",
    "print(pairs)\n",
    "# Output: [(0, 0), (0, 1), (0, 2), (1, 0), (1, 1), (1, 2), (2, 0), (2, 1), (2, 2)]\n",
    "parity = [\"even\" if x % 2 == 0 else \"odd\" for x in range(10)]\n",
    "print(parity)\n",
    "# Output: ['even', 'odd', 'even', 'odd', 'even', 'odd', 'even', 'odd', 'even', 'odd']\n",
    "nested_list = [[1, 2, 3], [4, 5], [6, 7, 8]]\n",
    "flattened = [item for sublist in nested_list for item in sublist]\n",
    "# Output: [1, 2, 3, 4, 5, 6, 7, 8]\n",
    "print(flattened)\n",
    "\n",
    "def square(x):\n",
    "    return x**2\n",
    "squares = [square(x) for x in range(10)]\n",
    "# Output: [0, 1, 4, 9, 16, 25, 36, 49, 64, 81]\n",
    "print(squares)\n",
    "\n",
    "numbers = [x for x in range(20) if x % 2 == 0 and x % 3 == 0]\n",
    "# Output: [0, 6, 12, 18]\n",
    "print(numbers)\n",
    "\n",
    "result = []\n",
    "for x in range(10):\n",
    "    if x % 2 == 0:\n",
    "        result.append(x**2)\n",
    "# Output: [0, 4, 16, 36, 64]\n",
    "print(result)\n",
    "\n",
    "result = [x**2 for x in range(10) if x % 2 == 0]\n",
    "# Output: [0, 4, 16, 36, 64]\n",
    "print(result)\n",
    "\n",
    "# Given a list of transactions, filter out those less than 500\n",
    "transactions = [300, 700, 250, 500, 900]\n",
    "high_transactions = [t for t in transactions if t >= 500]\n",
    "print(high_transactions)\n",
    "# fix the ______ to fulfill the requirement\n",
    "# Expected Output: [700, 500, 900]\n"
   ]
  },
  {
   "cell_type": "markdown",
   "metadata": {},
   "source": [
    "Nested Structures"
   ]
  },
  {
   "cell_type": "code",
   "execution_count": 45,
   "metadata": {},
   "outputs": [
    {
     "name": "stdout",
     "output_type": "stream",
     "text": [
      "[400, 500, 100]\n",
      "Alice\n",
      "1500\n",
      "700\n"
     ]
    }
   ],
   "source": [
    "customer_transactions = {\n",
    "    \"Alice\": [200, 300, 150],\n",
    "    \"Bob\": [400, 500, 100]\n",
    "}\n",
    "# Accessing Alice's transactions\n",
    "alice_transactions = customer_transactions[\"Bob\"]\n",
    "# Output: [200, 300, 150]\n",
    "print(alice_transactions)\n",
    "\n",
    "customers = [\n",
    "    {\"name\": \"Alice\", \"balance\": 500},\n",
    "    {\"name\": \"Bob\", \"balance\": 1000}\n",
    "]\n",
    "# Accessing the balance of the first customer\n",
    "alice_balance = customers[0][\"name\"]\n",
    "# Output: 500\n",
    "print(alice_balance)\n",
    "\n",
    "bank = {\n",
    "    \"Alice\": {\"checking\": 500, \"savings\": 1500},\n",
    "    \"Bob\": {\"checking\": 800, \"savings\": 2000}\n",
    "}\n",
    "# Accessing Alice's savings balance\n",
    "alice_savings = bank[\"Alice\"][\"savings\"]\n",
    "# Output: 1500\n",
    "print(alice_savings)\n",
    "\n",
    "transactions = [\n",
    "    [100, 200, 150],  # Day 1\n",
    "    [50, 300, 400],   # Day 2\n",
    "    [600, 700, 200]   # Day 3\n",
    "]\n",
    "# Accessing the second transaction on Day 1\n",
    "second_transaction_day1 = transactions[2][1]\n",
    "# Output: 200\n",
    "print(second_transaction_day1)\n"
   ]
  }
 ],
 "metadata": {
  "kernelspec": {
   "display_name": "Python 3",
   "language": "python",
   "name": "python3"
  },
  "language_info": {
   "codemirror_mode": {
    "name": "ipython",
    "version": 3
   },
   "file_extension": ".py",
   "mimetype": "text/x-python",
   "name": "python",
   "nbconvert_exporter": "python",
   "pygments_lexer": "ipython3",
   "version": "3.13.1"
  }
 },
 "nbformat": 4,
 "nbformat_minor": 2
}
