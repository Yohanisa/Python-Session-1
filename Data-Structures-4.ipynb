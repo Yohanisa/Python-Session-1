{
 "cells": [
  {
   "cell_type": "markdown",
   "metadata": {},
   "source": [
    "Data Structures"
   ]
  },
  {
   "cell_type": "code",
   "execution_count": 1,
   "metadata": {},
   "outputs": [
    {
     "name": "stdout",
     "output_type": "stream",
     "text": [
      "['apple', 'Strawberry', 'banana']\n",
      "None\n",
      "['Strawberry', 'apple', 'banana']\n",
      "None\n",
      "['banana', 'apple', 'Strawberry']\n",
      "apple\n",
      "Strawberry\n",
      "['Strawberry', 'banana']\n",
      "3\n",
      "False\n"
     ]
    }
   ],
   "source": [
    "# Creating a list\n",
    "fruits = [\"apple\", \"banana\", \"cherry\"]\n",
    "fruits.append(\"Orange\")\n",
    "fruits.insert(1,\"Pappaya\")\n",
    "fruits.remove(\"cherry\")\n",
    "fruits.pop()\n",
    "fruits[1]=\"Strawberry\"\n",
    "\n",
    "citrus_fruits= fruits[1:3]\n",
    "\n",
    "# Accessing elements\n",
    "first_fruit = fruits[0]  # \"apple\"\n",
    "last_fruit = fruits[-2]   # \"cherry\" (negative indexing)\n",
    "\n",
    "print(fruits)\n",
    "print(fruits.sort())\n",
    "print(fruits)\n",
    "print(fruits.reverse())\n",
    "print(fruits)\n",
    "print(first_fruit)\n",
    "print(last_fruit)\n",
    "print(citrus_fruits)\n",
    "print(len(fruits))\n",
    "print(\"cherry\" in fruits)\n",
    "\n"
   ]
  }
 ],
 "metadata": {
  "kernelspec": {
   "display_name": "Python 3",
   "language": "python",
   "name": "python3"
  },
  "language_info": {
   "codemirror_mode": {
    "name": "ipython",
    "version": 3
   },
   "file_extension": ".py",
   "mimetype": "text/x-python",
   "name": "python",
   "nbconvert_exporter": "python",
   "pygments_lexer": "ipython3",
   "version": "3.13.1"
  }
 },
 "nbformat": 4,
 "nbformat_minor": 2
}
