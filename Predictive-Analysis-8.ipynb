{
 "cells": [
  {
   "cell_type": "markdown",
   "metadata": {},
   "source": [
    "Predictive Analysis"
   ]
  },
  {
   "cell_type": "code",
   "execution_count": null,
   "metadata": {
    "vscode": {
     "languageId": "plaintext"
    }
   },
   "outputs": [],
   "source": [
    "# Step 1: Import necessary libraries\n",
    "import pandas as pd \n",
    "import numpy as np \n",
    "import matplotlib.pyplot as plt \n",
    "import seaborn as sns \n",
    "from sklearn.model_selection import train_test_split \n",
    "from sklearn.linear_model import LinearRegression \n",
    "from sklearn.metrics import mean_squared_error, mean_absolute_error \n",
    "from sklearn import preprocessing \n",
    "# importing data\n",
    "df = pd.read_csv('Real estate.csv')\n",
    "df.drop('No', inplace = True,axis=1) \n",
    "data.dropna(inplace=True)  # Removing missing values\n",
    "\n",
    "print(df.head())\n",
    "print(df.columns)\n",
    "\n",
    "# plotting a scatterplot \n",
    "sns.scatterplot(x='X4 number of convenience stores', \n",
    "\t\t\t\ty='Y house price of unit area', data=df) \n",
    "\n",
    "# creating feature variables\n",
    "X = df.drop('Y house price of unit area',axis= 1)\n",
    "y = df['Y house price of unit area']\n",
    "print(X)\n",
    "print(y)\n",
    "\n",
    "# creating train and test sets \n",
    "X_train, X_test, y_train, y_test = train_test_split( \n",
    "\tX, y, test_size=0.3, random_state=101) \n",
    "\n",
    "# creating a regression model\n",
    "model = LinearRegression()\n",
    "\n",
    "# fitting the model\n",
    "model.fit(X_train,y_train)\n",
    "\n",
    "# making predictions\n",
    "predictions = model.predict(X_test)\n",
    "\n",
    "print(\n",
    "  'mean_squared_error : ', mean_squared_error(y_test, predictions))\n",
    "print(\n",
    "  'mean_absolute_error : ', mean_absolute_error(y_test, predictions))\n",
    "\n"
   ]
  }
 ],
 "metadata": {
  "language_info": {
   "name": "python"
  }
 },
 "nbformat": 4,
 "nbformat_minor": 2
}
