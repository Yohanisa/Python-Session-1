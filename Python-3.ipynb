{
 "cells": [
  {
   "cell_type": "code",
   "execution_count": null,
   "metadata": {},
   "outputs": [],
   "source": [
    "#Indentation\n",
    "def greet_customer():\n",
    "    print(\"Welcome to the bank!\")\n",
    "print(\"Welcome to the Second Customer!\")\n",
    "greet_customer()\n"
   ]
  },
  {
   "cell_type": "code",
   "execution_count": null,
   "metadata": {},
   "outputs": [],
   "source": [
    "name=input(\"Please enter your name:\")\n",
    "print(f\"Hello,{name}!\")"
   ]
  },
  {
   "cell_type": "code",
   "execution_count": null,
   "metadata": {},
   "outputs": [],
   "source": [
    "try:\n",
    "    value = int(input(\"Enter a number: \"))\n",
    "    print(f\"The number is {value}\")\n",
    "except ValueError:\n",
    "    print(\"This is not an Integer!\")"
   ]
  },
  {
   "cell_type": "code",
   "execution_count": null,
   "metadata": {},
   "outputs": [],
   "source": [
    "#!/usr/bin/env python3\n",
    "# A simple Python program to demonstrate key components\n",
    "# Import necessary module\n",
    "import math\n",
    "# Function to calculate the area of a circle\n",
    "def calculate_area(radius):\n",
    "    return math.pi * radius ** 2\n",
    "# Main function to run the program\n",
    "def main():\n",
    "# Input: radius of the circle\n",
    "    radius = float(input(\"Enter the radius of the circle: \"))\n",
    "# Calculate area\n",
    "    area = calculate_area(radius)\n",
    "# Output the result\n",
    "    print(f\"The area of the circle with radius {radius} is: {area:.2f}\")\n",
    "# Ensure the script is run directly\n",
    "if __name__ == \"__main__\":\n",
    "    main()"
   ]
  },
  {
   "cell_type": "code",
   "execution_count": null,
   "metadata": {},
   "outputs": [],
   "source": [
    "# Formatting a message to display a transaction receipt\n",
    "account_name = \"John Doe\"\n",
    "transaction = 200.50\n",
    "receipt = f\"Thank you {account_name} for your transaction of ${transaction:.2f}.\"\n",
    "print(receipt) # Output: Thank you John Doe for your transaction of $200.50."
   ]
  },
  {
   "cell_type": "code",
   "execution_count": null,
   "metadata": {},
   "outputs": [],
   "source": [
    "# Calculating simple interest\n",
    "principal = 5000 # Initial amount\n",
    "rate = 0.05 # 5% interest\n",
    "time = 2 # in years\n",
    "interest = principal * rate * time\n",
    "print(\"Interest after 2 years:\", interest) # Output: Interest after 2 years: 500.0"
   ]
  },
  {
   "cell_type": "code",
   "execution_count": null,
   "metadata": {},
   "outputs": [],
   "source": [
    "# Check if the user qualifies for a loan\n",
    "has_good_credit = True\n",
    "has_sufficient_income = True\n",
    "qualifies_for_loan = has_good_credit and has_sufficient_income\n",
    "print(\"Qualifies for loan:\", qualifies_for_loan) # Output: Qualifies for loan: True"
   ]
  },
  {
   "cell_type": "markdown",
   "metadata": {},
   "source": [
    "Exercise 1\n",
    "Question No. 1"
   ]
  },
  {
   "cell_type": "code",
   "execution_count": null,
   "metadata": {},
   "outputs": [],
   "source": [
    "# Function to calculate simple interest\n",
    "def calculate_simple_interest(principal, rate, time):\n",
    "    return (principal * rate * time) / 100\n",
    "\n",
    "# Take inputs from the user\n",
    "try:\n",
    "    principal = float(input(\"Enter the principal amount: \"))\n",
    "    rate = float(input(\"Enter the rate of interest (in %): \"))\n",
    "    time = float(input(\"Enter the time period (in years): \"))\n",
    "\n",
    "    # Calculate simple interest\n",
    "    simple_interest = calculate_simple_interest(principal, rate, time)\n",
    "\n",
    "    # Display the result\n",
    "    print(f\"The simple interest is: {simple_interest:.2f}\")\n",
    "\n",
    "except ValueError:\n",
    "    print(\"Please enter valid numerical values.\")\n"
   ]
  },
  {
   "cell_type": "markdown",
   "metadata": {},
   "source": [
    "Exercise 1\n",
    "Question No. 2"
   ]
  },
  {
   "cell_type": "code",
   "execution_count": null,
   "metadata": {},
   "outputs": [],
   "source": [
    "# Function to check sufficient funds\n",
    "def check_sufficient_funds(balance, withdrawal_amount):\n",
    "    return balance >= withdrawal_amount\n",
    "\n",
    "# Main program\n",
    "def main():\n",
    "    try:\n",
    "        # Get user input for account balance and withdrawal amount\n",
    "        balance = float(input(\"Enter your current account balance: ETB\"))\n",
    "        withdrawal_amount = float(input(\"Enter the amount you want to withdraw: ETB\"))\n",
    "\n",
    "        # Check if the user has sufficient funds\n",
    "        if check_sufficient_funds(balance, withdrawal_amount):\n",
    "            print(f\"Transaction successful!\")\n",
    "            print(f\"You have withdrawn: {withdrawal_amount:.2f} ETB\")\n",
    "            current_balance = balance - withdrawal_amount\n",
    "            print(f\"Your current balance is: {current_balance:.2f} ETB\")\n",
    "        else:\n",
    "            print(\"Insufficient funds! Please enter a smaller amount.\")\n",
    "\n",
    "    except ValueError:\n",
    "        print(\"Please enter valid numerical values for balance and withdrawal amount.\")\n",
    "\n",
    "# Run the main program\n",
    "if __name__ == \"__main__\":\n",
    "    main()\n"
   ]
  },
  {
   "cell_type": "markdown",
   "metadata": {},
   "source": [
    "Exercise 2\n",
    "Qn. 1"
   ]
  },
  {
   "cell_type": "code",
   "execution_count": null,
   "metadata": {},
   "outputs": [],
   "source": []
  },
  {
   "cell_type": "markdown",
   "metadata": {},
   "source": [
    "Exercise 2\n",
    "Qn. 2"
   ]
  },
  {
   "cell_type": "code",
   "execution_count": null,
   "metadata": {},
   "outputs": [],
   "source": []
  },
  {
   "cell_type": "markdown",
   "metadata": {},
   "source": [
    "Exercise 2\n",
    "Qn. 3"
   ]
  },
  {
   "cell_type": "markdown",
   "metadata": {},
   "source": [
    "Class 3: Control Structure"
   ]
  },
  {
   "cell_type": "code",
   "execution_count": null,
   "metadata": {},
   "outputs": [],
   "source": [
    "# Example 1: Determine account fees based on account balance.\n",
    "balance = 1200\n",
    "if balance < 500:\n",
    "    fee = 20\n",
    "elif balance < 1000:\n",
    "    fee = 10\n",
    "else:\n",
    "    fee = 5\n",
    "print(f\"Monthly fee: ${fee}\")"
   ]
  },
  {
   "cell_type": "code",
   "execution_count": null,
   "metadata": {},
   "outputs": [],
   "source": [
    "#Example 2: Set overdraft protection options.\n",
    "account_type = \"business\"\n",
    "balance = 300\n",
    "if account_type == \"premium\":\n",
    "    overdraft_limit = 1000\n",
    "elif account_type == \"standard\" and balance >= 500:\n",
    "    overdraft_limit = 500\n",
    "else:\n",
    "    overdraft_limit = 0\n",
    "print(\"Overdraft limit:\", overdraft_limit)"
   ]
  },
  {
   "cell_type": "code",
   "execution_count": null,
   "metadata": {},
   "outputs": [],
   "source": [
    "# Write a program to determine if a customer is eligible for a special savings\n",
    "# account based on their age and balance.\n",
    "\n",
    "def check_eligibility(age, balance):\n",
    "    \"\"\"\n",
    "    Check if a customer is eligible for a special savings account.\n",
    "    \n",
    "    Parameters:\n",
    "    age (int): The age of the customer.\n",
    "    balance (float): The balance in the customer's account.\n",
    "    \n",
    "    Returns:\n",
    "    bool: True if eligible, False otherwise.\n",
    "    \"\"\"\n",
    "    if age >= 18 and balance >= 5000:\n",
    "        return True\n",
    "    else:\n",
    "        return False\n",
    "\n",
    "def main():\n",
    "    try:\n",
    "        # Get user input for age and balance\n",
    "        age = int(input(\"Enter your age: \"))\n",
    "        balance = float(input(\"Enter your account balance: $\"))\n",
    "\n",
    "        # Check eligibility\n",
    "        if check_eligibility(age, balance):\n",
    "            print(\"Congratulations! You are eligible for a special savings account.\")\n",
    "        else:\n",
    "            print(\"Sorry, you are not eligible for a special savings account.\")\n",
    "    \n",
    "    except ValueError:\n",
    "        print(\"Invalid input. Please enter numeric values for age and balance.\")\n",
    "\n",
    "if __name__ == \"__main__\":\n",
    "    main()\n"
   ]
  },
  {
   "cell_type": "code",
   "execution_count": null,
   "metadata": {},
   "outputs": [],
   "source": [
    "age=int(input(\"Please enter your age:\"))\n",
    "balance=int(input(\"Please enter your balance:\"))\n",
    "\n",
    "if(age>=18) and (balance>=5000):\n",
    "    print(\"You are qualify for a special savings account\")\n",
    "else:\n",
    "    print(\"You are NOT qualify for a special savings account\")"
   ]
  },
  {
   "cell_type": "code",
   "execution_count": null,
   "metadata": {},
   "outputs": [],
   "source": [
    "#Prompt for PIN entry until a correct one is entered or attempts are exhausted.\n",
    "\n",
    "attempts = 3\n",
    "correct_pin = \"5678\"\n",
    "while attempts > 0:\n",
    "    pin = input(\"Enter PIN: \")\n",
    "if pin == correct_pin:\n",
    "    print(\"Access granted.\")\n",
    "    #break\n",
    "else:\n",
    "    attempts -= 1\n",
    "    print(\"Incorrect PIN. Attempts left:\", attempts)\n",
    "if attempts == 0:\n",
    "    print(\"Card blocked due to multiple incorrect attempts.\")"
   ]
  },
  {
   "cell_type": "code",
   "execution_count": 1,
   "metadata": {},
   "outputs": [
    {
     "name": "stdout",
     "output_type": "stream",
     "text": [
      "Monthly mortgage payment: 15390.04\n",
      "Inside void function:\n",
      "Text\n"
     ]
    }
   ],
   "source": [
    "# Example 1: Calculate monthly mortgage payment.\n",
    "# principal is the amount of money that to be owned\n",
    "# rate is the interst to be paid per year\n",
    "# term is the number of years the loan is to be paid back\n",
    "\n",
    "def calculate_mortgage(principal, rate, term):\n",
    "    monthly_rate = rate / 12\n",
    "    months = term * 12\n",
    "    monthly_payment = principal * (monthly_rate * (1 + monthly_rate) ** months) / ((1 + monthly_rate) ** months - 1)\n",
    "    return monthly_payment\n",
    "\n",
    "payment = calculate_mortgage(1000000, 0.17, 15)\n",
    "print(\"Monthly mortgage payment:\", round(payment, 2))\n",
    "\n",
    "def Function():\n",
    "    print(\"Inside void function:\")\n",
    "    return \"Text\"\n",
    "text=Function()\n",
    "print(text)"
   ]
  }
 ],
 "metadata": {
  "kernelspec": {
   "display_name": "Python 3",
   "language": "python",
   "name": "python3"
  },
  "language_info": {
   "codemirror_mode": {
    "name": "ipython",
    "version": 3
   },
   "file_extension": ".py",
   "mimetype": "text/x-python",
   "name": "python",
   "nbconvert_exporter": "python",
   "pygments_lexer": "ipython3",
   "version": "3.13.1"
  }
 },
 "nbformat": 4,
 "nbformat_minor": 2
}
